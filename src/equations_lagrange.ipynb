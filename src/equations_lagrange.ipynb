{
 "cells": [
  {
   "cell_type": "code",
   "execution_count": 7,
   "metadata": {},
   "outputs": [],
   "source": [
    "from sympy import *\n",
    "\n",
    "###### Common params ########\n",
    "r0, L0, R, I1, I2, m, g, h = symbols(\"r0 L0 R I1 I2 m g h\")\n",
    "theta, dtheta, ddtheta = symbols(\"theta \\\\dot\\\\theta \\\\ddot\\\\theta\")\n",
    "u = symbols(\"u\")\n",
    "J = theta * r0 ** 2 / sqrt(L0 ** 2 - theta ** 2 * r0 ** 2)"
   ]
  },
  {
   "cell_type": "code",
   "execution_count": 18,
   "metadata": {
    "pycharm": {
     "name": "#%%\n"
    }
   },
   "outputs": [
    {
     "name": "stdout",
     "output_type": "stream",
     "text": [
      "\\frac{\\dot\\theta \\left(I_{1} R^{2} \\left(L_{0}^{2} - r_{0}^{2} \\theta^{2}\\right) + I_{2} r_{0}^{4} \\theta^{2}\\right)}{R^{2} \\left(L_{0}^{2} - r_{0}^{2} \\theta^{2}\\right)}\n",
      "\\frac{I_{1} R^{2} \\ddot\\theta \\left(L_{0}^{2} - r_{0}^{2} \\theta^{2}\\right)^{2} + 2 I_{2} L_{0}^{2} \\dot\\theta^{2} r_{0}^{4} \\theta + I_{2} \\ddot\\theta r_{0}^{4} \\theta^{2} \\left(L_{0}^{2} - r_{0}^{2} \\theta^{2}\\right)}{R^{2} \\left(L_{0}^{2} - r_{0}^{2} \\theta^{2}\\right)^{2}}\n",
      "\\frac{I_{2} \\dot\\theta^{2} r_{0}^{4} \\theta}{L_{0}^{2} R^{2} - R^{2} r_{0}^{2} \\theta^{2}} + \\frac{I_{2} \\dot\\theta^{2} r_{0}^{6} \\theta^{3}}{R^{2} \\left(L_{0}^{2} - r_{0}^{2} \\theta^{2}\\right)^{2}} - \\frac{g h m r_{0}^{2} \\theta \\sin{\\left(\\frac{L_{0}}{R} - \\frac{\\sqrt{L_{0}^{2} - r_{0}^{2} \\theta^{2}}}{R} \\right)}}{R \\sqrt{L_{0}^{2} - r_{0}^{2} \\theta^{2}}}\n",
      "- \\frac{I_{2} \\dot\\theta^{2} r_{0}^{4} \\theta}{L_{0}^{2} R^{2} - R^{2} r_{0}^{2} \\theta^{2}} - \\frac{I_{2} \\dot\\theta^{2} r_{0}^{6} \\theta^{3}}{R^{2} \\left(L_{0}^{2} - r_{0}^{2} \\theta^{2}\\right)^{2}} + \\frac{g h m r_{0}^{2} \\theta \\sin{\\left(\\frac{L_{0}}{R} - \\frac{\\sqrt{L_{0}^{2} - r_{0}^{2} \\theta^{2}}}{R} \\right)}}{R \\sqrt{L_{0}^{2} - r_{0}^{2} \\theta^{2}}} + \\frac{I_{1} R^{2} \\ddot\\theta \\left(L_{0}^{2} - r_{0}^{2} \\theta^{2}\\right)^{2} + 2 I_{2} L_{0}^{2} \\dot\\theta^{2} r_{0}^{4} \\theta + I_{2} \\ddot\\theta r_{0}^{4} \\theta^{2} \\left(L_{0}^{2} - r_{0}^{2} \\theta^{2}\\right)}{R^{2} \\left(L_{0}^{2} - r_{0}^{2} \\theta^{2}\\right)^{2}}\n",
      "\\frac{- I_{2} \\dot\\theta^{2} r_{0}^{4} \\theta \\left(L_{0}^{2} - r_{0}^{2} \\theta^{2}\\right)^{\\frac{5}{2}} + R g h m r_{0}^{2} \\theta \\left(L_{0}^{2} - r_{0}^{2} \\theta^{2}\\right)^{3} \\sin{\\left(\\frac{L_{0} - \\sqrt{L_{0}^{2} - r_{0}^{2} \\theta^{2}}}{R} \\right)} + \\left(L_{0}^{2} - r_{0}^{2} \\theta^{2}\\right)^{\\frac{3}{2}} \\left(I_{1} R^{2} \\ddot\\theta \\left(L_{0}^{2} - r_{0}^{2} \\theta^{2}\\right)^{2} + 2 I_{2} L_{0}^{2} \\dot\\theta^{2} r_{0}^{4} \\theta + I_{2} \\ddot\\theta r_{0}^{4} \\theta^{2} \\left(L_{0}^{2} - r_{0}^{2} \\theta^{2}\\right) - I_{2} \\dot\\theta^{2} r_{0}^{6} \\theta^{3}\\right)}{R^{2} \\left(L_{0}^{2} - r_{0}^{2} \\theta^{2}\\right)^{\\frac{7}{2}}}\n"
     ]
    }
   ],
   "source": [
    "###### Rot ########\n",
    "dalpha = J / R * dtheta\n",
    "K = I1 * dtheta ** 2 / 2 + I2 * dalpha ** 2 / 2\n",
    "P = m * g * h * 2* sin((L0 - sqrt(L0 ** 2 - r0 ** 2 * theta ** 2)) / (R)/2)**2\n",
    "Lag = K - P\n",
    "\n",
    "p = diff(Lag, dtheta)\n",
    "print(latex(simplify(p)))\n",
    "\n",
    "dp = simplify(diff(p, theta) * dtheta + p.subs(dtheta, ddtheta))\n",
    "dLag = simplify(diff(Lag, theta))\n",
    "\n",
    "print(latex(dp))\n",
    "print(latex(dLag))\n",
    "print(latex(dp - dLag))\n",
    "print(latex(simplify(dp - dLag)))\n",
    "\n",
    "expr = dp - dLag - u\n",
    "sol1 = solve(expr, ddtheta)"
   ]
  },
  {
   "cell_type": "code",
   "execution_count": 19,
   "metadata": {
    "pycharm": {
     "name": "#%%\n"
    }
   },
   "outputs": [
    {
     "data": {
      "text/latex": [
       "$\\displaystyle \\frac{I_{2} L_{0}^{2} \\dot\\theta^{2} r_{0}^{4} \\theta \\sqrt{L_{0}^{2} - r_{0}^{2} \\theta^{2}} - L_{0}^{4} R^{2} u \\sqrt{L_{0}^{2} - r_{0}^{2} \\theta^{2}} + L_{0}^{4} R g h m r_{0}^{2} \\theta \\sin{\\left(\\frac{L_{0} - \\sqrt{L_{0}^{2} - r_{0}^{2} \\theta^{2}}}{R} \\right)} + 2 L_{0}^{2} R^{2} r_{0}^{2} \\theta^{2} u \\sqrt{L_{0}^{2} - r_{0}^{2} \\theta^{2}} - 2 L_{0}^{2} R g h m r_{0}^{4} \\theta^{3} \\sin{\\left(\\frac{L_{0} - \\sqrt{L_{0}^{2} - r_{0}^{2} \\theta^{2}}}{R} \\right)} - R^{2} r_{0}^{4} \\theta^{4} u \\sqrt{L_{0}^{2} - r_{0}^{2} \\theta^{2}} + R g h m r_{0}^{6} \\theta^{5} \\sin{\\left(\\frac{L_{0} - \\sqrt{L_{0}^{2} - r_{0}^{2} \\theta^{2}}}{R} \\right)}}{\\sqrt{L_{0}^{2} - r_{0}^{2} \\theta^{2}} \\left(- I_{1} L_{0}^{4} R^{2} + 2 I_{1} L_{0}^{2} R^{2} r_{0}^{2} \\theta^{2} - I_{1} R^{2} r_{0}^{4} \\theta^{4} - I_{2} L_{0}^{2} r_{0}^{4} \\theta^{2} + I_{2} r_{0}^{6} \\theta^{4}\\right)}$"
      ],
      "text/plain": [
       "(I2*L0**2*\\dot\\theta**2*r0**4*theta*sqrt(L0**2 - r0**2*theta**2) - L0**4*R**2*u*sqrt(L0**2 - r0**2*theta**2) + L0**4*R*g*h*m*r0**2*theta*sin((L0 - sqrt(L0**2 - r0**2*theta**2))/R) + 2*L0**2*R**2*r0**2*theta**2*u*sqrt(L0**2 - r0**2*theta**2) - 2*L0**2*R*g*h*m*r0**4*theta**3*sin((L0 - sqrt(L0**2 - r0**2*theta**2))/R) - R**2*r0**4*theta**4*u*sqrt(L0**2 - r0**2*theta**2) + R*g*h*m*r0**6*theta**5*sin((L0 - sqrt(L0**2 - r0**2*theta**2))/R))/(sqrt(L0**2 - r0**2*theta**2)*(-I1*L0**4*R**2 + 2*I1*L0**2*R**2*r0**2*theta**2 - I1*R**2*r0**4*theta**4 - I2*L0**2*r0**4*theta**2 + I2*r0**6*theta**4))"
      ]
     },
     "execution_count": 19,
     "metadata": {},
     "output_type": "execute_result"
    }
   ],
   "source": [
    "sol1[0]"
   ]
  },
  {
   "cell_type": "code",
   "execution_count": 10,
   "metadata": {
    "pycharm": {
     "name": "#%%\n"
    }
   },
   "outputs": [
    {
     "name": "stdout",
     "output_type": "stream",
     "text": [
      "\\frac{\\dot\\theta \\left(I_{1} \\left(L_{0}^{2} - r_{0}^{2} \\theta^{2}\\right) + m r_{0}^{4} \\theta^{2}\\right)}{L_{0}^{2} - r_{0}^{2} \\theta^{2}}\n",
      "\\frac{I_{1} \\ddot\\theta \\left(L_{0}^{2} - r_{0}^{2} \\theta^{2}\\right)^{2} + 2 L_{0}^{2} \\dot\\theta^{2} m r_{0}^{4} \\theta + \\ddot\\theta m r_{0}^{4} \\theta^{2} \\left(L_{0}^{2} - r_{0}^{2} \\theta^{2}\\right)}{\\left(L_{0}^{2} - r_{0}^{2} \\theta^{2}\\right)^{2}}\n",
      "\\frac{\\dot\\theta^{2} m r_{0}^{6} \\theta^{3}}{\\left(L_{0}^{2} - r_{0}^{2} \\theta^{2}\\right)^{2}} + \\frac{\\dot\\theta^{2} m r_{0}^{4} \\theta}{L_{0}^{2} - r_{0}^{2} \\theta^{2}} - \\frac{g m r_{0}^{2} \\theta}{\\sqrt{L_{0}^{2} - r_{0}^{2} \\theta^{2}}}\n",
      "- \\frac{\\dot\\theta^{2} m r_{0}^{6} \\theta^{3}}{\\left(L_{0}^{2} - r_{0}^{2} \\theta^{2}\\right)^{2}} - \\frac{\\dot\\theta^{2} m r_{0}^{4} \\theta}{L_{0}^{2} - r_{0}^{2} \\theta^{2}} + \\frac{g m r_{0}^{2} \\theta}{\\sqrt{L_{0}^{2} - r_{0}^{2} \\theta^{2}}} + \\frac{I_{1} \\ddot\\theta \\left(L_{0}^{2} - r_{0}^{2} \\theta^{2}\\right)^{2} + 2 L_{0}^{2} \\dot\\theta^{2} m r_{0}^{4} \\theta + \\ddot\\theta m r_{0}^{4} \\theta^{2} \\left(L_{0}^{2} - r_{0}^{2} \\theta^{2}\\right)}{\\left(L_{0}^{2} - r_{0}^{2} \\theta^{2}\\right)^{2}}\n",
      "\\frac{- \\dot\\theta^{2} m r_{0}^{4} \\theta \\left(L_{0}^{2} - r_{0}^{2} \\theta^{2}\\right)^{\\frac{5}{2}} + g m r_{0}^{2} \\theta \\left(L_{0}^{2} - r_{0}^{2} \\theta^{2}\\right)^{3} + \\left(L_{0}^{2} - r_{0}^{2} \\theta^{2}\\right)^{\\frac{3}{2}} \\left(I_{1} \\ddot\\theta \\left(L_{0}^{2} - r_{0}^{2} \\theta^{2}\\right)^{2} + 2 L_{0}^{2} \\dot\\theta^{2} m r_{0}^{4} \\theta + \\ddot\\theta m r_{0}^{4} \\theta^{2} \\left(L_{0}^{2} - r_{0}^{2} \\theta^{2}\\right) - \\dot\\theta^{2} m r_{0}^{6} \\theta^{3}\\right)}{\\left(L_{0}^{2} - r_{0}^{2} \\theta^{2}\\right)^{\\frac{7}{2}}}\n"
     ]
    }
   ],
   "source": [
    "###### Lin ########\n",
    "dx = J * dtheta\n",
    "K = I1 * dtheta ** 2 / 2 + m * dx ** 2 / 2\n",
    "P = m * g * (L0 - sqrt(L0**2 - r0**2*theta**2))\n",
    "Lag = K - P\n",
    "\n",
    "p = diff(Lag, dtheta)\n",
    "print(latex(simplify(p)))\n",
    "\n",
    "dp = simplify(diff(p, theta) * dtheta + p.subs(dtheta, ddtheta))\n",
    "dLag = simplify(diff(Lag, theta))\n",
    "\n",
    "print(latex(dp))\n",
    "print(latex(dLag))\n",
    "print(latex(dp - dLag))\n",
    "print(latex(simplify(dp - dLag)))\n",
    "\n",
    "\n",
    "expr = dp - dLag - u\n",
    "sol2 = solve(expr, ddtheta)"
   ]
  },
  {
   "cell_type": "code",
   "execution_count": 14,
   "metadata": {
    "pycharm": {
     "name": "#%%\n"
    }
   },
   "outputs": [
    {
     "name": "stdout",
     "output_type": "stream",
     "text": [
      "\\frac{- 2 L_{0}^{2} \\dot\\theta^{2} m r_{0}^{4} \\theta \\left(L_{0}^{2} - r_{0}^{2} \\theta^{2}\\right)^{\\frac{3}{2}} + \\dot\\theta^{2} m r_{0}^{6} \\theta^{3} \\left(L_{0}^{2} - r_{0}^{2} \\theta^{2}\\right)^{\\frac{3}{2}} + \\dot\\theta^{2} m r_{0}^{4} \\theta \\left(L_{0}^{2} - r_{0}^{2} \\theta^{2}\\right)^{\\frac{5}{2}} - g m r_{0}^{2} \\theta \\left(L_{0}^{2} - r_{0}^{2} \\theta^{2}\\right)^{3} + u \\left(L_{0}^{2} - r_{0}^{2} \\theta^{2}\\right)^{\\frac{7}{2}}}{\\left(L_{0}^{2} - r_{0}^{2} \\theta^{2}\\right)^{\\frac{3}{2}} \\left(I_{1} \\left(L_{0}^{2} - r_{0}^{2} \\theta^{2}\\right)^{2} + L_{0}^{2} m r_{0}^{4} \\theta^{2} - m r_{0}^{6} \\theta^{4}\\right)}\n"
     ]
    }
   ],
   "source": [
    "print(latex(sol2[0]))"
   ]
  },
  {
   "cell_type": "code",
   "execution_count": null,
   "metadata": {},
   "outputs": [],
   "source": []
  }
 ],
 "metadata": {
  "kernelspec": {
   "display_name": "Python 3 (ipykernel)",
   "language": "python",
   "name": "python3"
  },
  "language_info": {
   "codemirror_mode": {
    "name": "ipython",
    "version": 3
   },
   "file_extension": ".py",
   "mimetype": "text/x-python",
   "name": "python",
   "nbconvert_exporter": "python",
   "pygments_lexer": "ipython3",
   "version": "3.8.9"
  }
 },
 "nbformat": 4,
 "nbformat_minor": 1
}